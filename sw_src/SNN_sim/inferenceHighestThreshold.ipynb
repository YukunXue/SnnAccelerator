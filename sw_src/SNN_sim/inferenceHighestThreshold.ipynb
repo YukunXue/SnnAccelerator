{
  "cells": [
    {
      "cell_type": "markdown",
      "metadata": {
        "id": "i9P-KhVZYMMM"
      },
      "source": [
        "# **Import MNIST Dataset**"
      ]
    },
    {
      "cell_type": "code",
      "execution_count": null,
      "metadata": {
        "id": "l3C9bqF_RJPs"
      },
      "outputs": [
        {
          "ename": "",
          "evalue": "",
          "output_type": "error",
          "traceback": [
            "\u001b[1;31mRunning cells with 'c:\\Users\\jais\\AppData\\Local\\Microsoft\\WindowsApps\\python3.11.exe' requires the ipykernel package.\n",
            "\u001b[1;31mRun the following command to install 'ipykernel' into the Python environment. \n",
            "\u001b[1;31mCommand: 'c:/Users/jais/AppData/Local/Microsoft/WindowsApps/python3.11.exe -m pip install ipykernel -U --user --force-reinstall'"
          ]
        }
      ],
      "source": [
        "# TensorFlow and tf.keras\n",
        "import tensorflow as tf\n",
        "from tensorflow.keras.datasets import mnist\n",
        "\n",
        "# Pre-processing libraries\n",
        "import numpy as np\n",
        "import matplotlib.pyplot as plt\n",
        "import cv2  # Add this import for OpenCV\n",
        "\n",
        "# Helper libraries\n",
        "import random\n",
        "import time\n",
        "\n",
        "\n",
        "# Get MNIST\n",
        "(train_images, train_labels), (test_images, test_labels) = mnist.load_data()\n",
        "\n",
        "assert train_images.shape == (60000, 28, 28)\n",
        "assert test_images.shape == (10000, 28, 28)\n",
        "assert train_labels.shape == (60000,)\n",
        "assert test_labels.shape == (10000,)\n"
      ]
    },
    {
      "cell_type": "markdown",
      "metadata": {
        "id": "eR2ZWbzeYSJc"
      },
      "source": [
        "# **Weights**"
      ]
    },
    {
      "cell_type": "code",
      "execution_count": null,
      "metadata": {
        "id": "jVZ4yhxiYSZE"
      },
      "outputs": [
        {
          "ename": "",
          "evalue": "",
          "output_type": "error",
          "traceback": [
            "\u001b[1;31mRunning cells with 'c:\\Users\\jais\\AppData\\Local\\Microsoft\\WindowsApps\\python3.11.exe' requires the ipykernel package.\n",
            "\u001b[1;31mRun the following command to install 'ipykernel' into the Python environment. \n",
            "\u001b[1;31mCommand: 'c:/Users/jais/AppData/Local/Microsoft/WindowsApps/python3.11.exe -m pip install ipykernel -U --user --force-reinstall'"
          ]
        }
      ],
      "source": [
        "weights = [[0.0 for _ in range(10)] for _ in range(256)]\n",
        "\n",
        "weights[0]       = [0,0,0,0,0,0,0,0,0,0]\n",
        "weights[1]       = [0,0,0,0,0,0,0,0,0,0]\n",
        "weights[2]       = [0,0,0,0,0,0,0,0,0,0]\n",
        "weights[3]       = [0,0,0,0,0,0,0,0,0,0]\n",
        "weights[4]       = [0,0,0,0,0,0,0,0,0,0]\n",
        "weights[5]       = [0,0,0,0,0,0,0,0,0,0]\n",
        "weights[6]       = [0,0,0,0,0,0,0,0,0,0]\n",
        "weights[7]       = [0,0,0,0,0,0,0,0,0,0]\n",
        "weights[8]       = [0,0,0,0,0,0,0,0,0,0]\n",
        "weights[9]       = [0,0,0,0,0,0,0,0,0,0]\n",
        "weights[10]      = [0,0,0,0,0,0,0,0,0,0]\n",
        "weights[11]      = [0,0,0,0,0,0,0,0,0,0]\n",
        "weights[12]      = [0,0,0,0,0,0,0,0,0,0]\n",
        "weights[13]      = [0,0,0,0,0,0,0,0,0,0]\n",
        "weights[14]      = [0,0,0,0,0,0,0,0,0,0]\n",
        "weights[15]      = [0,0,0,0,0,0,0,0,0,0]\n",
        "weights[16]      = [0,0,0,0,0,0,0,0,0,0]\n",
        "weights[17]      = [0,0,0,0,0,0,0,0,0,0]\n",
        "weights[18]      = [0,0,0,0,0,0,0,0,0,0]\n",
        "weights[19]      = [0,0,0,0,0,0,0,0,0,0]\n",
        "weights[20]      = [0,0,0,0,0,0,0,0,0,0]\n",
        "weights[21]      = [0,0,1,0,0,0,0,0,0,0]\n",
        "weights[22]      = [0,0,0,0,0,0,0,0,0,0]\n",
        "weights[23]      = [0,0,2,0,0,2,0,0,0,0]\n",
        "weights[24]      = [0,1,0,0,0,0,4,0,0,0]\n",
        "weights[25]      = [0,0,0,0,0,0,5,0,0,0]\n",
        "weights[26]      = [0,1,0,0,0,0,5,0,0,0]\n",
        "weights[27]      = [0,0,0,0,0,0,0,0,0,0]\n",
        "weights[28]      = [0,0,0,0,0,0,0,0,0,0]\n",
        "weights[29]      = [0,0,0,0,0,0,0,0,0,0]\n",
        "weights[30]      = [0,0,0,0,0,0,0,0,0,0]\n",
        "weights[31]      = [0,0,0,0,0,0,0,0,0,0]\n",
        "weights[32]      = [0,0,0,0,0,0,0,0,0,0]\n",
        "weights[33]      = [0,0,0,0,0,0,0,0,0,0]\n",
        "weights[34]      = [0,0,0,0,0,0,0,0,0,0]\n",
        "weights[35]      = [0,0,0,0,0,0,0,0,0,0]\n",
        "weights[36]      = [0,0,1,1,0,0,0,0,0,0]\n",
        "weights[37]      = [0,0,7,2,0,0,0,0,0,0]\n",
        "weights[38]      = [0,0,7,6,0,3,0,0,0,0]\n",
        "weights[39]      = [1,7,7,7,0,1,1,0,1,0]\n",
        "weights[40]      = [2,7,7,7,1,2,7,0,2,0]\n",
        "weights[41]      = [0,0,3,1,1,2,7,0,3,0]\n",
        "weights[42]      = [0,5,0,0,0,7,7,0,0,0]\n",
        "weights[43]      = [0,0,0,0,0,3,3,0,0,0]\n",
        "weights[44]      = [0,0,0,0,0,3,0,0,0,0]\n",
        "weights[45]      = [0,0,0,0,0,0,0,0,0,0]\n",
        "weights[46]      = [0,0,0,0,0,0,0,0,0,0]\n",
        "weights[47]      = [0,0,0,0,0,0,0,0,0,0]\n",
        "weights[48]      = [0,0,0,0,0,0,0,0,0,0]\n",
        "weights[49]      = [0,0,0,0,0,0,0,0,0,0]\n",
        "weights[50]      = [0,0,0,0,0,0,0,0,0,0]\n",
        "weights[51]      = [0,0,4,1,0,0,0,0,0,0]\n",
        "weights[52]      = [0,0,7,7,0,0,0,0,0,0]\n",
        "weights[53]      = [2,1,7,7,0,1,1,0,0,0]\n",
        "weights[54]      = [5,0,7,7,2,7,4,1,4,1]\n",
        "weights[55]      = [7,4,7,7,0,2,7,0,6,2]\n",
        "weights[56]      = [7,7,7,6,3,4,5,0,6,1]\n",
        "weights[57]      = [7,6,7,6,6,4,6,0,7,6]\n",
        "weights[58]      = [6,4,7,7,7,7,6,0,3,5]\n",
        "weights[59]      = [5,2,3,0,7,7,1,0,6,0]\n",
        "weights[60]      = [0,0,0,0,7,7,1,0,1,0]\n",
        "weights[61]      = [0,0,0,0,1,2,0,0,0,0]\n",
        "weights[62]      = [0,0,0,0,1,0,0,0,0,0]\n",
        "weights[63]      = [0,0,0,0,0,0,0,0,0,0]\n",
        "weights[64]      = [0,0,0,0,0,0,0,0,0,0]\n",
        "weights[65]      = [0,0,0,0,0,0,0,0,0,0]\n",
        "weights[66]      = [0,0,0,0,0,0,0,0,0,0]\n",
        "weights[67]      = [0,1,0,2,0,0,0,3,0,0]\n",
        "weights[68]      = [0,0,3,7,4,3,0,7,3,0]\n",
        "weights[69]      = [7,0,5,7,4,6,2,7,7,0]\n",
        "weights[70]      = [7,0,7,6,4,7,7,6,6,7]\n",
        "weights[71]      = [5,6,5,5,2,7,7,6,6,6]\n",
        "weights[72]      = [6,7,5,6,0,6,6,6,1,7]\n",
        "weights[73]      = [5,7,6,7,3,6,2,5,6,7]\n",
        "weights[74]      = [6,1,7,6,7,7,0,7,7,7]\n",
        "weights[75]      = [7,1,6,6,6,7,0,6,7,5]\n",
        "weights[76]      = [3,0,0,2,7,7,0,3,2,6]\n",
        "weights[77]      = [0,0,0,0,7,5,0,1,1,0]\n",
        "weights[78]      = [0,0,0,0,2,0,0,0,0,0]\n",
        "weights[79]      = [0,0,0,0,0,0,0,0,0,0]\n",
        "weights[80]      = [0,0,0,0,0,0,0,0,0,0]\n",
        "weights[81]      = [0,0,0,0,0,0,0,0,0,0]\n",
        "weights[82]      = [0,0,0,1,0,0,0,0,0,0]\n",
        "weights[83]      = [0,0,3,2,2,0,0,7,0,0]\n",
        "weights[84]      = [7,1,4,4,6,2,2,7,7,0]\n",
        "weights[85]      = [7,0,3,5,6,7,3,7,7,6]\n",
        "weights[86]      = [3,1,2,2,5,7,5,6,7,7]\n",
        "weights[87]      = [5,7,1,0,4,7,6,6,1,7]\n",
        "weights[88]      = [7,7,3,7,6,7,7,7,0,7]\n",
        "weights[89]      = [4,7,7,7,2,6,0,7,4,6]\n",
        "weights[90]      = [6,0,7,7,3,5,0,5,6,7]\n",
        "weights[91]      = [7,0,7,4,5,7,0,7,5,6]\n",
        "weights[92]      = [7,0,2,2,7,7,2,7,6,5]\n",
        "weights[93]      = [2,0,0,0,7,2,0,2,0,0]\n",
        "weights[94]      = [0,0,0,0,0,0,0,0,0,0]\n",
        "weights[95]      = [0,0,0,0,0,0,0,0,0,0]\n",
        "weights[96]      = [0,0,0,0,0,0,0,0,0,0]\n",
        "weights[97]      = [0,0,0,0,0,0,0,1,0,0]\n",
        "weights[98]      = [0,0,1,0,0,0,0,1,1,0]\n",
        "weights[99]      = [6,0,0,4,3,2,0,7,4,1]\n",
        "weights[100]     = [6,0,1,3,5,7,5,7,7,7]\n",
        "weights[101]     = [7,2,1,0,6,7,5,7,4,7]\n",
        "weights[102]     = [7,0,0,0,7,6,7,5,7,5]\n",
        "weights[103]     = [7,7,0,7,6,7,7,7,7,6]\n",
        "weights[104]     = [2,7,0,7,4,6,0,6,2,1]\n",
        "weights[105]     = [0,7,7,7,6,3,0,7,7,7]\n",
        "weights[106]     = [4,0,6,7,7,1,3,6,6,7]\n",
        "weights[107]     = [6,0,5,7,6,1,1,7,7,7]\n",
        "weights[108]     = [7,0,2,1,7,6,6,7,6,6]\n",
        "weights[109]     = [7,0,0,0,3,1,1,4,3,0]\n",
        "weights[110]     = [0,0,0,0,3,0,2,0,0,0]\n",
        "weights[111]     = [0,0,0,0,0,0,0,0,0,0]\n",
        "weights[112]     = [0,0,0,0,0,0,0,0,0,0]\n",
        "weights[113]     = [0,0,0,0,0,0,0,0,0,0]\n",
        "weights[114]     = [0,0,0,0,0,0,0,2,0,0]\n",
        "weights[115]     = [7,0,0,0,4,1,0,6,0,3]\n",
        "weights[116]     = [7,1,0,0,5,7,3,7,6,7]\n",
        "weights[117]     = [7,0,0,2,7,4,7,3,5,6]\n",
        "weights[118]     = [5,2,0,5,6,6,7,5,6,4]\n",
        "weights[119]     = [1,7,0,7,3,7,7,1,5,3]\n",
        "weights[120]     = [0,7,2,7,7,6,6,0,7,4]\n",
        "weights[121]     = [0,7,7,7,7,2,7,7,7,7]\n",
        "weights[122]     = [0,0,7,3,6,4,6,7,6,7]\n",
        "weights[123]     = [7,0,7,5,7,2,4,7,7,6]\n",
        "weights[124]     = [7,0,6,0,7,0,7,4,3,7]\n",
        "weights[125]     = [7,0,0,0,3,0,6,3,3,3]\n",
        "weights[126]     = [0,0,0,0,0,0,1,0,0,0]\n",
        "weights[127]     = [0,0,0,0,0,0,0,0,0,0]\n",
        "weights[128]     = [0,0,0,0,0,0,0,0,0,0]\n",
        "weights[129]     = [0,0,0,0,0,0,0,0,0,0]\n",
        "weights[130]     = [0,0,0,0,2,0,0,0,0,5]\n",
        "weights[131]     = [7,0,0,0,6,4,7,6,0,6]\n",
        "weights[132]     = [7,0,0,0,7,7,5,0,3,6]\n",
        "weights[133]     = [7,1,2,0,7,7,7,2,4,6]\n",
        "weights[134]     = [5,0,0,7,7,5,6,2,7,7]\n",
        "weights[135]     = [0,7,1,7,5,7,7,0,5,7]\n",
        "weights[136]     = [0,7,7,7,7,6,7,0,7,6]\n",
        "weights[137]     = [0,7,6,7,6,7,7,7,7,6]\n",
        "weights[138]     = [5,0,6,7,7,5,5,7,4,4]\n",
        "weights[139]     = [7,0,7,7,7,7,7,7,1,4]\n",
        "weights[140]     = [7,0,0,5,7,3,7,7,1,0]\n",
        "weights[141]     = [7,0,2,0,0,2,7,1,2,0]\n",
        "weights[142]     = [0,0,0,0,1,0,1,0,0,0]\n",
        "weights[143]     = [0,0,0,0,0,0,0,0,0,0]\n",
        "weights[144]     = [0,0,0,0,0,0,0,0,0,0]\n",
        "weights[145]     = [0,0,0,0,0,0,0,0,0,0]\n",
        "weights[146]     = [0,0,0,0,1,2,0,0,0,2]\n",
        "weights[147]     = [5,0,4,0,7,3,3,0,0,6]\n",
        "weights[148]     = [7,0,4,0,5,1,6,1,0,6]\n",
        "weights[149]     = [7,0,7,0,7,0,6,6,3,6]\n",
        "weights[150]     = [6,0,7,4,7,3,7,0,7,5]\n",
        "weights[151]     = [0,7,5,6,7,2,7,1,7,6]\n",
        "weights[152]     = [0,7,7,1,7,3,7,7,7,6]\n",
        "weights[153]     = [0,6,6,6,7,6,4,7,5,7]\n",
        "weights[154]     = [2,0,7,6,7,7,1,7,7,6]\n",
        "weights[155]     = [6,0,7,7,6,5,7,4,2,2]\n",
        "weights[156]     = [7,0,7,7,6,5,7,4,0,1]\n",
        "weights[157]     = [7,0,3,0,3,1,5,1,0,0]\n",
        "weights[158]     = [0,0,1,0,0,1,1,0,0,0]\n",
        "weights[159]     = [0,0,0,0,0,0,0,0,0,0]\n",
        "weights[160]     = [0,0,0,0,0,0,0,0,0,0]\n",
        "weights[161]     = [0,0,0,0,0,0,0,0,0,0]\n",
        "weights[162]     = [0,0,0,3,0,1,0,0,0,0]\n",
        "weights[163]     = [7,0,4,5,5,2,4,1,0,2]\n",
        "weights[164]     = [7,0,7,1,7,4,7,1,0,1]\n",
        "weights[165]     = [7,0,6,0,6,3,7,1,5,5]\n",
        "weights[166]     = [6,0,7,1,7,1,6,4,7,6]\n",
        "weights[167]     = [1,7,7,0,7,0,5,3,4,4]\n",
        "weights[168]     = [0,6,6,0,7,0,7,7,4,6]\n",
        "weights[169]     = [0,6,4,0,7,1,5,7,5,7]\n",
        "weights[170]     = [7,0,7,6,7,7,7,6,7,5]\n",
        "weights[171]     = [7,1,7,7,7,7,5,3,5,7]\n",
        "weights[172]     = [7,0,7,7,0,5,7,0,0,0]\n",
        "weights[173]     = [7,1,7,0,0,2,7,0,1,0]\n",
        "weights[174]     = [0,0,4,0,0,0,0,0,0,0]\n",
        "weights[175]     = [0,0,0,0,0,0,0,0,0,0]\n",
        "weights[176]     = [0,0,0,0,0,0,0,0,0,0]\n",
        "weights[177]     = [0,0,0,0,0,0,0,0,0,0]\n",
        "weights[178]     = [0,0,0,0,0,1,0,0,0,0]\n",
        "weights[179]     = [3,0,6,6,0,1,0,0,0,0]\n",
        "weights[180]     = [7,0,7,7,0,3,3,0,1,1]\n",
        "weights[181]     = [7,0,7,3,0,7,7,1,7,1]\n",
        "weights[182]     = [7,1,7,0,0,5,7,1,6,0]\n",
        "weights[183]     = [3,7,7,0,2,6,7,7,7,1]\n",
        "weights[184]     = [0,6,6,0,7,6,7,6,1,6]\n",
        "weights[185]     = [1,5,7,7,7,7,7,7,5,4]\n",
        "weights[186]     = [7,0,6,5,2,7,6,0,6,7]\n",
        "weights[187]     = [7,0,5,7,0,6,7,1,5,0]\n",
        "weights[188]     = [7,1,7,6,3,7,0,0,1,2]\n",
        "weights[189]     = [6,0,7,0,0,2,1,0,0,0]\n",
        "weights[190]     = [0,0,0,0,0,0,0,0,0,0]\n",
        "weights[191]     = [0,0,0,0,0,0,0,0,0,0]\n",
        "weights[192]     = [0,0,0,0,0,0,0,0,0,0]\n",
        "weights[193]     = [0,0,0,0,0,0,0,0,0,0]\n",
        "weights[194]     = [0,0,0,2,0,0,0,0,0,0]\n",
        "weights[195]     = [1,0,0,2,0,0,0,0,0,0]\n",
        "weights[196]     = [3,2,7,7,0,2,1,0,5,0]\n",
        "weights[197]     = [6,0,7,7,0,7,0,3,5,0]\n",
        "weights[198]     = [6,4,7,6,0,4,6,1,7,2]\n",
        "weights[199]     = [5,6,7,4,0,6,6,6,7,1]\n",
        "weights[200]     = [5,5,2,5,7,3,7,5,0,6]\n",
        "weights[201]     = [7,7,5,7,4,7,7,3,4,5]\n",
        "weights[202]     = [4,6,7,7,1,7,7,0,7,0]\n",
        "weights[203]     = [7,1,7,7,1,7,3,0,3,1]\n",
        "weights[204]     = [3,5,7,0,0,1,0,0,4,0]\n",
        "weights[205]     = [0,0,6,0,0,0,0,0,0,0]\n",
        "weights[206]     = [0,0,1,0,0,0,0,0,0,0]\n",
        "weights[207]     = [0,0,0,0,0,0,0,0,0,0]\n",
        "weights[208]     = [0,0,0,0,0,0,0,0,0,0]\n",
        "weights[209]     = [0,0,0,0,0,0,0,0,0,0]\n",
        "weights[210]     = [0,0,0,1,0,0,0,0,0,0]\n",
        "weights[211]     = [0,0,0,2,0,0,0,0,0,0]\n",
        "weights[212]     = [1,3,1,7,0,5,0,0,1,0]\n",
        "weights[213]     = [2,2,7,7,0,7,0,0,0,2]\n",
        "weights[214]     = [6,2,7,7,0,7,0,6,6,6]\n",
        "weights[215]     = [7,7,7,3,5,6,0,7,7,4]\n",
        "weights[216]     = [6,7,0,6,7,3,1,4,6,7]\n",
        "weights[217]     = [7,6,5,7,7,7,0,1,6,5]\n",
        "weights[218]     = [7,1,0,5,7,7,1,0,7,7]\n",
        "weights[219]     = [1,0,7,1,5,4,0,0,1,5]\n",
        "weights[220]     = [0,0,4,0,0,0,0,0,2,0]\n",
        "weights[221]     = [0,0,2,0,0,0,0,0,0,0]\n",
        "weights[222]     = [0,0,1,0,0,0,0,0,0,0]\n",
        "weights[223]     = [0,0,0,0,0,0,0,0,0,0]\n",
        "weights[224]     = [0,0,0,0,0,0,0,0,0,0]\n",
        "weights[225]     = [0,0,0,0,0,0,0,0,0,0]\n",
        "weights[226]     = [0,0,0,0,0,0,0,0,0,0]\n",
        "weights[227]     = [0,0,0,0,0,0,0,0,0,0]\n",
        "weights[228]     = [0,0,0,3,0,0,0,0,1,0]\n",
        "weights[229]     = [0,0,0,4,0,1,0,2,0,0]\n",
        "weights[230]     = [0,1,1,7,0,7,0,7,4,1]\n",
        "weights[231]     = [0,0,0,7,1,5,0,7,6,6]\n",
        "weights[232]     = [0,6,0,0,6,7,0,6,5,7]\n",
        "weights[233]     = [0,6,0,0,3,7,0,3,6,7]\n",
        "weights[234]     = [0,0,1,0,0,3,0,0,2,4]\n",
        "weights[235]     = [0,0,1,0,0,0,0,0,2,1]\n",
        "weights[236]     = [0,0,0,0,0,0,0,0,1,0]\n",
        "weights[237]     = [0,0,0,0,0,0,0,0,0,0]\n",
        "weights[238]     = [0,0,0,0,0,0,0,0,0,0]\n",
        "weights[239]     = [0,0,0,0,0,0,0,0,0,0]\n",
        "weights[240]     = [0,0,0,0,0,0,0,0,0,0]\n",
        "weights[241]     = [0,0,0,0,0,0,0,0,0,0]\n",
        "weights[242]     = [0,0,0,0,0,0,0,0,0,0]\n",
        "weights[243]     = [0,0,0,0,0,0,0,0,0,0]\n",
        "weights[244]     = [0,0,0,0,0,0,0,0,0,0]\n",
        "weights[245]     = [0,0,0,0,0,0,0,0,0,0]\n",
        "weights[246]     = [0,0,0,0,0,0,0,5,0,0]\n",
        "weights[247]     = [0,0,0,0,0,0,0,7,0,2]\n",
        "weights[248]     = [0,0,0,0,0,2,0,7,0,2]\n",
        "weights[249]     = [0,0,0,0,0,3,0,0,0,1]\n",
        "weights[250]     = [0,0,0,0,0,0,0,0,0,0]\n",
        "weights[251]     = [0,0,0,0,0,0,0,0,0,0]\n",
        "weights[252]     = [0,0,0,0,0,0,0,0,0,0]\n",
        "weights[253]     = [0,0,0,0,0,0,0,0,0,0]\n",
        "weights[254]     = [0,0,0,0,0,0,0,0,0,0]\n",
        "weights[255]     = [0,0,0,0,0,0,0,0,0,0]"
      ]
    },
    {
      "cell_type": "markdown",
      "metadata": {
        "id": "xgCkCMMdRqak"
      },
      "source": [
        "# **Functions used**"
      ]
    },
    {
      "cell_type": "code",
      "execution_count": null,
      "metadata": {
        "id": "aZXc8KhsRtTX"
      },
      "outputs": [
        {
          "ename": "",
          "evalue": "",
          "output_type": "error",
          "traceback": [
            "\u001b[1;31mRunning cells with 'c:\\Users\\jais\\AppData\\Local\\Microsoft\\WindowsApps\\python3.11.exe' requires the ipykernel package.\n",
            "\u001b[1;31mRun the following command to install 'ipykernel' into the Python environment. \n",
            "\u001b[1;31mCommand: 'c:/Users/jais/AppData/Local/Microsoft/WindowsApps/python3.11.exe -m pip install ipykernel -U --user --force-reinstall'"
          ]
        }
      ],
      "source": [
        "def resize_mnist(images, algorithm, size=(16, 16)):\n",
        "\n",
        "  # Transpose the data from (batch, height, width) to (height, width, batch)\n",
        "  test_images_trp = tf.transpose(images, perm=[1, 2, 0])\n",
        "\n",
        "  # Resize data\n",
        "  resized_images_trp = tf.image.resize(test_images_trp, size, method=algorithm)\n",
        "\n",
        "  # Transpose back to original form\n",
        "  resized_images = tf.transpose(resized_images_trp, perm=[2, 0, 1])\n",
        "\n",
        "  assert resized_images.shape == (10000, 16, 16)\n",
        "\n",
        "  return resized_images\n",
        "\n",
        "def deskew_mnist(images):\n",
        "    deskewed_images = []\n",
        "    for img in images:\n",
        "        # Convert the image to a NumPy array\n",
        "        img = img.numpy()\n",
        "\n",
        "        # Calculate the image moments to find its center\n",
        "        moments = cv2.moments(img)\n",
        "        if moments['mu02'] != 0:\n",
        "            skew = moments['mu11'] / moments['mu02']\n",
        "        else:\n",
        "            skew = 0\n",
        "        M = np.float32([[1, skew, -0.5 * 16 * skew], [0, 1, 0]])\n",
        "        deskewed = cv2.warpAffine(img, M, (16, 16), flags=cv2.WARP_INVERSE_MAP | cv2.INTER_LINEAR)\n",
        "        deskewed_images.append(deskewed)\n",
        "    return np.array(deskewed_images)\n",
        "\n",
        "# Define a thresholding function\n",
        "def threshold_images(images, threshold_value, th_type):\n",
        "    # Apply the threshold to each pixel of all images\n",
        "    if th_type == 'soft':\n",
        "      thresholded_images = np.maximum(np.abs(images) - threshold_value, 0)\n",
        "    elif th_type == 'hard':\n",
        "      _, thresholded_images = cv2.threshold(images, threshold_value, 255, cv2.THRESH_TOZERO)\n",
        "\n",
        "    return thresholded_images\n",
        "\n",
        "# Rank Order Coding function\n",
        "def roc_encode(images, randomize_equals):\n",
        "    # Sort the pixel indexes based on the intensity of each pixel. Brighter\n",
        "    # pixels go first\n",
        "\n",
        "    # Array with an array of sorted indexes for each image\n",
        "    roc_images = [0] * len(images)\n",
        "\n",
        "    for img in range(len(images)):\n",
        "      # Flatten the image\n",
        "      flattened_image = images[img].flatten()\n",
        "\n",
        "      # Enumerate the sorted array along with indices, then extract the indices\n",
        "      if randomize_equals == True:\n",
        "        indexed_pixels = list(enumerate(flattened_image))\n",
        "        random.shuffle(indexed_pixels)\n",
        "        sorted_values = sorted(indexed_pixels, key=lambda x: x[1], reverse=True)\n",
        "      else:\n",
        "        sorted_values = sorted(enumerate(flattened_image), key=lambda x: x[1], reverse=True)\n",
        "\n",
        "      # Store the rank order encoded image into the dataset array\n",
        "      roc_images[img] = [index for index, _ in sorted_values]\n",
        "\n",
        "    return roc_images\n"
      ]
    },
    {
      "cell_type": "markdown",
      "metadata": {
        "id": "FCyLsZgKQ6ON"
      },
      "source": [
        "# **Run Preprocessing**"
      ]
    },
    {
      "cell_type": "code",
      "execution_count": null,
      "metadata": {
        "id": "61T-Ua2tQyMt"
      },
      "outputs": [
        {
          "ename": "",
          "evalue": "",
          "output_type": "error",
          "traceback": [
            "\u001b[1;31mRunning cells with 'c:\\Users\\jais\\AppData\\Local\\Microsoft\\WindowsApps\\python3.11.exe' requires the ipykernel package.\n",
            "\u001b[1;31mRun the following command to install 'ipykernel' into the Python environment. \n",
            "\u001b[1;31mCommand: 'c:/Users/jais/AppData/Local/Microsoft/WindowsApps/python3.11.exe -m pip install ipykernel -U --user --force-reinstall'"
          ]
        }
      ],
      "source": [
        "algorithm = 'area'\n",
        "threshold_value = 0\n",
        "th_type = 'hard'\n",
        "randomize_equals = False\n",
        "\n",
        "# Resize test images\n",
        "resized_test_images = resize_mnist(test_images, algorithm, size=(16, 16))\n",
        "\n",
        "# Deskew resized test images\n",
        "deskewed_test_images = deskew_mnist(resized_test_images)\n",
        "\n",
        "# Threshold deskewed test images\n",
        "thresholded_test_images = threshold_images(deskewed_test_images, threshold_value, th_type)\n",
        "\n",
        "# Rank order code the thresholded images\n",
        "rank_ordered_test_images = roc_encode(thresholded_test_images, randomize_equals)"
      ]
    },
    {
      "cell_type": "code",
      "execution_count": null,
      "metadata": {
        "id": "AFX8w2HWpClu"
      },
      "outputs": [
        {
          "ename": "",
          "evalue": "",
          "output_type": "error",
          "traceback": [
            "\u001b[1;31mRunning cells with 'c:\\Users\\jais\\AppData\\Local\\Microsoft\\WindowsApps\\python3.11.exe' requires the ipykernel package.\n",
            "\u001b[1;31mRun the following command to install 'ipykernel' into the Python environment. \n",
            "\u001b[1;31mCommand: 'c:/Users/jais/AppData/Local/Microsoft/WindowsApps/python3.11.exe -m pip install ipykernel -U --user --force-reinstall'"
          ]
        }
      ],
      "source": []
    },
    {
      "cell_type": "code",
      "execution_count": null,
      "metadata": {
        "id": "j8gTxxydByQi"
      },
      "outputs": [
        {
          "ename": "",
          "evalue": "",
          "output_type": "error",
          "traceback": [
            "\u001b[1;31mRunning cells with 'c:\\Users\\jais\\AppData\\Local\\Microsoft\\WindowsApps\\python3.11.exe' requires the ipykernel package.\n",
            "\u001b[1;31mRun the following command to install 'ipykernel' into the Python environment. \n",
            "\u001b[1;31mCommand: 'c:/Users/jais/AppData/Local/Microsoft/WindowsApps/python3.11.exe -m pip install ipykernel -U --user --force-reinstall'"
          ]
        }
      ],
      "source": [
        "# Download data\n",
        "# file_path = \"roc_test_images.txt\"  # Change the file path as needed\n",
        "# with open(file_path, \"w\") as file:\n",
        "#   for i in range(len(rank_ordered_test_images)):\n",
        "#     file.write(str(rank_ordered_test_images[i])+\"\\n\")\n",
        "\n",
        "# from google.colab import files\n",
        "# files.download(file_path)\n",
        "\n",
        "# file_path = \"test_labels.txt\"  # Change the file path as needed\n",
        "# with open(file_path, \"w\") as file:\n",
        "#   for test_label in test_labels:\n",
        "#     file.write(str(test_label))\n",
        "\n",
        "# from google.colab import files\n",
        "\n",
        "# files.download(file_path)"
      ]
    },
    {
      "cell_type": "markdown",
      "metadata": {
        "id": "mwVlSPc44wjn"
      },
      "source": [
        "# **Run Inference**"
      ]
    },
    {
      "cell_type": "code",
      "execution_count": null,
      "metadata": {
        "colab": {
          "base_uri": "https://localhost:8080/"
        },
        "id": "VXFxdaA-4w5l",
        "outputId": "91b46adc-30d3-4026-bbf5-a138c575080d"
      },
      "outputs": [
        {
          "name": "stdout",
          "output_type": "stream",
          "text": [
            "Accuracy is 82.58 %\n",
            "Average execution time in s is  3.138071060180664\n",
            "Average execution time in us is  313.8071060180664\n",
            "Worst execution time in us is  40348.52981567383\n",
            "Best execution time in us is  107.28836059570312\n"
          ]
        }
      ],
      "source": [
        "# Parameters\n",
        "OL_neurons = 10\n",
        "threshold = 222\n",
        "\n",
        "# Metric data structures\n",
        "correct_guessed_digits    = {0: 0, 1: 0, 2: 0, 3: 0, 4: 0, 5: 0, 6: 0, 7: 0, 8: 0, 9: 0}\n",
        "incorrect_guessed_digits  = {key: [0] * 10 for key in range(10)} # Expected value: [guessed value] = times\n",
        "\n",
        "spiked_neurons = []\n",
        "\n",
        "# Do inference for each encoded image in the dataset, starting with all OL neurons at 0 potential\n",
        "for image in range(len(rank_ordered_test_images)):\n",
        "  state = [0, 0, 0, 0, 0, 0, 0, 0, 0, 0]\n",
        "\n",
        "  # Resolve each IL neuron (pixel ID) spike, and set a flag if an OL neuron\n",
        "  # spikes to break out of the loop to strat inference of next image.\n",
        "  # rank is the index of the array with the rank-ordered pixel IDs, from 0 to 255\n",
        "  for rank in range(len(rank_ordered_test_images[image])):\n",
        "    spiked = 0\n",
        "    IL_neuron = rank_ordered_test_images[image][rank]\n",
        "\n",
        "    # Update each OL neuron state and check if the neuron spiked\n",
        "    # If two neurons spiked at the same time, get the one with highest potential\n",
        "    best_spiking_neuron = 0\n",
        "    max_potential = 0\n",
        "    for OL_neuron in range(OL_neurons):\n",
        "      state[OL_neuron] += weights[IL_neuron][OL_neuron]\n",
        "\n",
        "      if (state[OL_neuron] >= threshold):\n",
        "        spiked = 1\n",
        "        if (state[OL_neuron] > max_potential):\n",
        "            best_spiking_neuron = OL_neuron\n",
        "            max_potential = state[OL_neuron]\n",
        "\n",
        "    # If a neuron spiked, check if result is correct and update metrics.\n",
        "    if spiked == 1:\n",
        "      if (best_spiking_neuron == test_labels[image]):\n",
        "        correct_guessed_digits[best_spiking_neuron] += 1\n",
        "      else:\n",
        "        incorrect_guessed_digits[test_labels[image]][best_spiking_neuron] += 1\n",
        "        incorrect_guessed_indexes.append(image)\n",
        "      # Go to next image\n",
        "      break\n",
        "\n",
        "total_correct_guesses = 0\n",
        "for digit in correct_guessed_digits:\n",
        "    total_correct_guesses += correct_guessed_digits[digit]\n",
        "\n",
        "accuracy = 100 * total_correct_guesses / len(rank_ordered_test_images)\n",
        "\n",
        "print(\"Accuracy is \"+str(accuracy)+\" %\")\n"
      ]
    },
    {
      "cell_type": "markdown",
      "metadata": {
        "id": "4-vfOJs2_Q7u"
      },
      "source": [
        "# **Show Results**"
      ]
    },
    {
      "cell_type": "markdown",
      "metadata": {
        "id": "ngot25geM3tw"
      },
      "source": [
        "Correct guesses"
      ]
    },
    {
      "cell_type": "code",
      "execution_count": null,
      "metadata": {
        "colab": {
          "base_uri": "https://localhost:8080/",
          "height": 459
        },
        "id": "slLMEhjIUdmC",
        "outputId": "398effea-2781-4855-e7c7-d9cd93a1b3b3"
      },
      "outputs": [
        {
          "name": "stdout",
          "output_type": "stream",
          "text": [
            "Correct guesses for each digit is:  {0: 888, 1: 954, 2: 942, 3: 799, 4: 821, 5: 657, 6: 885, 7: 795, 8: 731, 9: 786}\n",
            "\n",
            "Accuracy for each digit is:  [90.61224489795919, 84.05286343612335, 91.27906976744185, 79.10891089108911, 83.60488798370672, 73.65470852017937, 92.37995824634656, 77.33463035019456, 75.05133470225873, 77.89890981169475]\n"
          ]
        },
        {
          "data": {
            "image/png": "[encoded data removed]",
            "text/plain": [
              "<Figure size 1200x400 with 2 Axes>"
            ]
          },
          "metadata": {},
          "output_type": "display_data"
        }
      ],
      "source": [
        "print(\"Correct guesses for each digit is: \", correct_guessed_digits)\n",
        "\n",
        "test_digit_counts = [980, 1135, 1032, 1010, 982, 892, 958, 1028, 974, 1009]\n",
        "\n",
        "keys = list(correct_guessed_digits.keys())\n",
        "values = list(correct_guessed_digits.values())\n",
        "\n",
        "test_digit_accuracy = [a / b * 100 for a, b in zip(values, test_digit_counts)]\n",
        "\n",
        "print(\"\\nAccuracy for each digit is: \", test_digit_accuracy)\n",
        "\n",
        "fig, (ax1, ax2) = plt.subplots(1, 2, figsize=(12, 4))\n",
        "\n",
        "ax1.bar(keys, values)\n",
        "ax1.set_xlabel('Digit')\n",
        "ax1.set_ylabel('Count of Correct Guesses')\n",
        "ax1.set_title('Correct Guesses for Each Digit')\n",
        "\n",
        "ax2.bar(keys, test_digit_accuracy)\n",
        "ax2.set_xlabel('Digit')\n",
        "ax2.set_ylabel('Accuracy of Correct Guesses')\n",
        "ax2.set_title('Accuracy for Each Digit')\n",
        "\n",
        "plt.tight_layout()  # Ensures the plots don't overlap\n",
        "plt.show()"
      ]
    },
    {
      "cell_type": "markdown",
      "metadata": {
        "id": "mLd2Ml2FM75Y"
      },
      "source": [
        "Wrong guesses"
      ]
    },
    {
      "cell_type": "code",
      "execution_count": null,
      "metadata": {
        "colab": {
          "base_uri": "https://localhost:8080/",
          "height": 835
        },
        "id": "B3bHUIKrM8qZ",
        "outputId": "2f827918-265b-4844-f728-9eeaaa0d47e8"
      },
      "outputs": [
        {
          "name": "stdout",
          "output_type": "stream",
          "text": [
            "Indexes of digits that failed are: [8, 11, 15, 22, 33, 34, 43, 44, 54, 59, 61, 63, 66, 73, 75, 80, 84, 87, 97, 107, 111, 114, 115, 116, 133, 137, 149, 151, 152, 158, 160, 165, 167, 175, 176, 182, 185, 187, 190, 193, 195, 196, 198, 201, 209, 211, 215, 218, 227, 230, 232, 233, 234, 241, 242, 245, 247, 251, 255, 257, 259, 268, 273, 279, 282, 290, 300, 301, 304, 307, 317, 320, 321, 336, 338, 340, 341, 352, 358, 366, 376, 381, 388, 399, 403, 406, 426, 428, 432, 433, 434, 443, 445, 448, 450, 464, 468, 478, 479, 483, 487, 488, 495, 497, 498, 501, 505, 507, 510, 511, 514, 527, 530, 531, 548, 551, 552, 553, 565, 571, 572, 578, 582, 591, 593, 602, 605, 606, 610, 613, 615, 617, 628, 630, 638, 645, 646, 654, 655, 658, 659, 661, 664, 667, 671, 679, 684, 685, 686, 691, 699, 702, 707, 708, 712, 714, 716, 717, 720, 730, 734, 739, 740, 751, 756, 759, 760, 761, 774, 795, 800, 813, 817, 818, 824, 839, 842, 844, 857, 874, 876, 877, 896, 898, 906, 915, 924, 930, 931, 934, 935, 936, 944, 947, 950, 952, 956, 959, 960, 965, 966, 968, 977, 982, 989, 992, 998, 1000, 1003, 1010, 1012, 1014, 1015, 1024, 1032, 1039, 1040, 1048, 1052, 1062, 1068, 1070, 1072, 1077, 1078, 1091, 1092, 1093, 1096, 1097, 1101, 1103, 1107, 1112, 1114, 1116, 1117, 1119, 1121, 1122, 1128, 1142, 1143, 1166, 1173, 1191, 1192, 1194, 1197, 1198, 1200, 1202, 1204, 1206, 1208, 1219, 1224, 1226, 1228, 1233, 1234, 1243, 1247, 1248, 1252, 1260, 1266, 1270, 1273, 1281, 1283, 1288, 1289, 1308, 1319, 1320, 1325, 1326, 1328, 1330, 1337, 1345, 1347, 1363, 1364, 1378, 1384, 1393, 1403, 1404, 1415, 1425, 1437, 1438, 1444, 1450, 1453, 1465, 1466, 1469, 1476, 1494, 1495, 1499, 1500, 1522, 1525, 1527, 1528, 1529, 1530, 1534, 1549, 1553, 1559, 1562, 1569, 1571, 1581, 1595, 1609, 1611, 1627, 1630, 1635, 1637, 1638, 1640, 1641, 1655, 1660, 1661, 1681, 1686, 1687, 1694, 1701, 1702, 1709, 1716, 1717, 1718, 1721, 1722, 1729, 1732, 1733, 1735, 1740, 1741, 1750, 1751, 1754, 1755, 1757, 1758, 1759, 1767, 1769, 1773, 1774, 1776, 1785, 1790, 1800, 1801, 1806, 1808, 1809, 1810, 1813, 1816, 1838, 1843, 1868, 1878, 1880, 1881, 1885, 1900, 1901, 1903, 1911, 1913, 1918, 1920, 1926, 1930, 1931, 1933, 1938, 1940, 1941, 1948, 1952, 1953, 1955, 1963, 1968, 1970, 1973, 1981, 1984, 2004, 2009, 2016, 2018, 2024, 2037, 2043, 2044, 2051, 2052, 2053, 2054, 2057, 2064, 2068, 2070, 2073, 2080, 2093, 2095, 2107, 2109, 2115, 2118, 2121, 2125, 2129, 2130, 2131, 2134, 2140, 2143, 2144, 2148, 2152, 2166, 2177, 2180, 2182, 2183, 2185, 2189, 2192, 2200, 2208, 2209, 2214, 2215, 2218, 2221, 2224, 2229, 2246, 2258, 2264, 2266, 2272, 2279, 2286, 2293, 2299, 2305, 2325, 2326, 2329, 2333, 2341, 2351, 2355, 2358, 2369, 2371, 2380, 2381, 2382, 2386, 2393, 2395, 2398, 2400, 2402, 2404, 2405, 2406, 2409, 2413, 2419, 2422, 2431, 2434, 2438, 2441, 2447, 2449, 2450, 2457, 2461, 2473, 2488, 2507, 2513, 2516, 2528, 2533, 2534, 2535, 2540, 2546, 2547, 2548, 2556, 2559, 2560, 2564, 2571, 2578, 2582, 2586, 2589, 2598, 2604, 2607, 2610, 2616, 2628, 2631, 2635, 2636, 2637, 2642, 2647, 2648, 2659, 2665, 2668, 2670, 2678, 2684, 2695, 2699, 2702, 2705, 2713, 2719, 2724, 2728, 2730, 2731, 2736, 2740, 2745, 2753, 2754, 2756, 2758, 2770, 2771, 2778, 2780, 2789, 2805, 2807, 2808, 2810, 2812, 2813, 2814, 2820, 2823, 2827, 2834, 2847, 2850, 2851, 2852, 2853, 2862, 2863, 2879, 2888, 2890, 2896, 2898, 2906, 2914, 2915, 2917, 2919, 2921, 2925, 2926, 2927, 2929, 2930, 2939, 2940, 2945, 2946, 2953, 2957, 2961, 2969, 2970, 2974, 2986, 2995, 2998, 3005, 3008, 3023, 3026, 3027, 3029, 3033, 3038, 3047, 3049, 3055, 3059, 3060, 3061, 3062, 3065, 3068, 3069, 3073, 3093, 3095, 3099, 3100, 3108, 3110, 3114, 3115, 3117, 3120, 3122, 3130, 3132, 3133, 3136, 3146, 3157, 3160, 3166, 3167, 3181, 3189, 3193, 3202, 3205, 3206, 3210, 3219, 3222, 3225, 3227, 3233, 3236, 3240, 3250, 3253, 3261, 3262, 3263, 3268, 3269, 3275, 3285, 3287, 3289, 3292, 3295, 3296, 3307, 3323, 3329, 3330, 3333, 3336, 3338, 3345, 3349, 3351, 3358, 3363, 3364, 3373, 3376, 3377, 3381, 3384, 3394, 3404, 3405, 3406, 3414, 3416, 3425, 3426, 3429, 3432, 3437, 3447, 3448, 3450, 3452, 3453, 3456, 3457, 3459, 3460, 3467, 3468, 3475, 3483, 3490, 3494, 3502, 3503, 3506, 3509, 3516, 3520, 3521, 3543, 3549, 3552, 3556, 3558, 3559, 3563, 3565, 3571, 3573, 3580, 3593, 3597, 3601, 3604, 3610, 3614, 3618, 3627, 3634, 3635, 3646, 3652, 3654, 3657, 3664, 3665, 3669, 3685, 3687, 3702, 3713, 3716, 3718, 3727, 3728, 3730, 3732, 3736, 3738, 3742, 3749, 3751, 3756, 3767, 3769, 3776, 3780, 3782, 3787, 3796, 3801, 3806, 3808, 3820, 3821, 3827, 3834, 3836, 3838, 3846, 3848, 3853, 3859, 3869, 3873, 3876, 3879, 3884, 3885, 3891, 3893, 3902, 3906, 3918, 3926, 3941, 3946, 3949, 3950, 3966, 3968, 3976, 3989, 3998, 4000, 4002, 4007, 4015, 4017, 4027, 4029, 4044, 4051, 4054, 4059, 4065, 4068, 4075, 4076, 4078, 4084, 4093, 4111, 4116, 4140, 4141, 4145, 4146, 4154, 4156, 4165, 4168, 4171, 4176, 4177, 4178, 4180, 4185, 4187, 4197, 4201, 4203, 4212, 4215, 4221, 4222, 4223, 4224, 4225, 4228, 4238, 4239, 4248, 4255, 4256, 4259, 4261, 4263, 4265, 4271, 4289, 4293, 4297, 4298, 4300, 4302, 4306, 4308, 4313, 4325, 4338, 4353, 4356, 4358, 4363, 4374, 4379, 4380, 4382, 4391, 4393, 4395, 4408, 4410, 4423, 4425, 4429, 4433, 4435, 4437, 4438, 4439, 4441, 4443, 4444, 4447, 4449, 4451, 4454, 4464, 4469, 4477, 4480, 4481, 4494, 4497, 4498, 4500, 4505, 4507, 4511, 4513, 4514, 4523, 4540, 4544, 4548, 4551, 4560, 4566, 4567, 4572, 4574, 4575, 4576, 4577, 4578, 4583, 4589, 4613, 4615, 4633, 4639, 4640, 4656, 4657, 4658, 4660, 4671, 4679, 4690, 4698, 4702, 4720, 4722, 4724, 4726, 4731, 4733, 4736, 4737, 4742, 4743, 4744, 4745, 4748, 4751, 4763, 4777, 4785, 4791, 4795, 4796, 4804, 4807, 4814, 4816, 4823, 4828, 4829, 4833, 4836, 4837, 4838, 4839, 4844, 4847, 4860, 4861, 4863, 4868, 4874, 4876, 4879, 4886, 4888, 4890, 4893, 4896, 4910, 4915, 4933, 4941, 4945, 4956, 4968, 4978, 4987, 4990, 5001, 5013, 5017, 5038, 5046, 5047, 5053, 5056, 5065, 5067, 5068, 5078, 5081, 5086, 5090, 5091, 5101, 5118, 5132, 5134, 5138, 5140, 5143, 5148, 5157, 5159, 5173, 5175, 5176, 5177, 5200, 5201, 5209, 5231, 5232, 5239, 5242, 5246, 5260, 5261, 5268, 5269, 5271, 5281, 5299, 5311, 5331, 5339, 5360, 5379, 5380, 5440, 5446, 5457, 5464, 5468, 5503, 5518, 5522, 5530, 5532, 5543, 5560, 5564, 5569, 5571, 5573, 5583, 5588, 5593, 5600, 5608, 5611, 5620, 5623, 5628, 5639, 5642, 5645, 5649, 5653, 5654, 5655, 5661, 5663, 5670, 5674, 5677, 5678, 5709, 5714, 5719, 5722, 5730, 5734, 5735, 5736, 5744, 5745, 5746, 5749, 5752, 5757, 5759, 5760, 5771, 5779, 5780, 5803, 5812, 5814, 5821, 5831, 5833, 5835, 5842, 5843, 5851, 5855, 5857, 5862, 5866, 5867, 5871, 5874, 5887, 5888, 5891, 5892, 5899, 5903, 5906, 5910, 5912, 5913, 5922, 5935, 5936, 5938, 5955, 5962, 5967, 5972, 5973, 5974, 5975, 5985, 6004, 6006, 6011, 6019, 6021, 6023, 6042, 6043, 6046, 6056, 6059, 6070, 6071, 6072, 6080, 6081, 6083, 6087, 6091, 6101, 6110, 6112, 6124, 6126, 6135, 6153, 6157, 6161, 6166, 6168, 6172, 6173, 6178, 6202, 6210, 6223, 6228, 6233, 6238, 6251, 6269, 6312, 6324, 6331, 6347, 6359, 6370, 6374, 6381, 6385, 6399, 6400, 6410, 6418, 6421, 6425, 6426, 6428, 6432, 6434, 6441, 6445, 6449, 6452, 6458, 6465, 6471, 6473, 6480, 6490, 6494, 6495, 6503, 6505, 6507, 6517, 6530, 6542, 6544, 6545, 6555, 6558, 6560, 6565, 6568, 6569, 6571, 6573, 6576, 6577, 6578, 6597, 6598, 6611, 6619, 6624, 6628, 6632, 6641, 6642, 6643, 6651, 6652, 6661, 6662, 6688, 6694, 6712, 6716, 6720, 6721, 6722, 6725, 6732, 6733, 6740, 6743, 6744, 6746, 6755, 6763, 6765, 6775, 6776, 6783, 6784, 6785, 6788, 6796, 6801, 6803, 6817, 6840, 6864, 6872, 6878, 6883, 6885, 6886, 6894, 6895, 6905, 6906, 6919, 6923, 6944, 6945, 6954, 6958, 6962, 6970, 6973, 6978, 6981, 6998, 7002, 7003, 7030, 7035, 7049, 7077, 7084, 7121, 7130, 7161, 7162, 7167, 7170, 7171, 7177, 7182, 7195, 7204, 7212, 7216, 7232, 7241, 7247, 7248, 7249, 7256, 7257, 7262, 7265, 7268, 7284, 7293, 7294, 7311, 7320, 7325, 7326, 7333, 7337, 7341, 7350, 7354, 7357, 7363, 7381, 7394, 7395, 7419, 7424, 7426, 7432, 7434, 7437, 7439, 7448, 7451, 7453, 7454, 7459, 7462, 7468, 7471, 7476, 7477, 7478, 7480, 7481, 7487, 7489, 7490, 7491, 7494, 7498, 7499, 7504, 7505, 7514, 7520, 7531, 7541, 7558, 7565, 7574, 7584, 7597, 7603, 7620, 7622, 7648, 7673, 7709, 7720, 7735, 7736, 7756, 7777, 7783, 7790, 7797, 7800, 7803, 7804, 7806, 7809, 7812, 7813, 7819, 7820, 7821, 7822, 7823, 7826, 7829, 7831, 7837, 7839, 7842, 7847, 7849, 7850, 7854, 7856, 7857, 7858, 7859, 7865, 7869, 7870, 7875, 7876, 7886, 7888, 7890, 7894, 7896, 7899, 7905, 7911, 7916, 7917, 7918, 7920, 7921, 7928, 7944, 7945, 7990, 7991, 7999, 8003, 8004, 8010, 8014, 8020, 8022, 8029, 8043, 8044, 8047, 8050, 8059, 8062, 8091, 8094, 8097, 8106, 8119, 8128, 8144, 8151, 8156, 8165, 8170, 8181, 8184, 8196, 8198, 8210, 8218, 8229, 8231, 8243, 8253, 8254, 8258, 8262, 8265, 8266, 8270, 8272, 8273, 8277, 8279, 8282, 8288, 8294, 8296, 8298, 8299, 8308, 8309, 8310, 8316, 8319, 8322, 8325, 8330, 8332, 8339, 8353, 8361, 8381, 8405, 8408, 8410, 8413, 8416, 8431, 8444, 8456, 8457, 8476, 8477, 8486, 8489, 8495, 8497, 8505, 8507, 8508, 8509, 8510, 8520, 8522, 8524, 8530, 8533, 8539, 8553, 8571, 8578, 8606, 8616, 8632, 8637, 8653, 8656, 8665, 8670, 8672, 8674, 8679, 8710, 8722, 8738, 8752, 8757, 8766, 8785, 8847, 8849, 8873, 8875, 8885, 8906, 8928, 8933, 8952, 8981, 9002, 9003, 9005, 9009, 9013, 9015, 9016, 9017, 9019, 9024, 9025, 9026, 9031, 9035, 9036, 9039, 9044, 9045, 9054, 9057, 9063, 9073, 9079, 9110, 9136, 9141, 9156, 9158, 9161, 9170, 9175, 9180, 9190, 9198, 9200, 9206, 9211, 9216, 9234, 9245, 9248, 9275, 9280, 9290, 9305, 9308, 9316, 9332, 9342, 9375, 9385, 9388, 9410, 9427, 9446, 9450, 9479, 9503, 9505, 9508, 9513, 9522, 9524, 9530, 9533, 9538, 9540, 9552, 9554, 9560, 9564, 9580, 9587, 9594, 9595, 9599, 9600, 9606, 9610, 9612, 9614, 9622, 9624, 9634, 9636, 9640, 9645, 9649, 9653, 9655, 9656, 9657, 9661, 9662, 9666, 9674, 9677, 9682, 9692, 9699, 9700, 9712, 9719, 9729, 9735, 9744, 9745, 9747, 9749, 9752, 9755, 9764, 9768, 9769, 9770, 9771, 9772, 9779, 9783, 9786, 9795, 9811, 9817, 9819, 9826, 9831, 9832, 9834, 9835, 9839, 9840, 9850, 9857, 9863, 9873, 9876, 9879, 9881, 9883, 9890, 9891, 9892, 9893, 9901, 9904, 9905, 9907, 9912, 9915, 9922, 9925, 9941, 9943, 9944, 9947, 9955, 9958, 9959, 9970, 9975, 9982, 9986, 9991]\n",
            "\n",
            "Digit 0 was missinterpreted as a [0, 1, 2, 3, 4, 5, 6, 7, 8, 9]: [0, 0, 23, 3, 6, 4, 40, 1, 12, 3] times\n",
            "Digit 1 was missinterpreted as a [0, 1, 2, 3, 4, 5, 6, 7, 8, 9]: [0, 0, 15, 1, 1, 4, 124, 0, 33, 3] times\n",
            "Digit 2 was missinterpreted as a [0, 1, 2, 3, 4, 5, 6, 7, 8, 9]: [5, 0, 0, 8, 26, 2, 33, 4, 9, 3] times\n",
            "Digit 3 was missinterpreted as a [0, 1, 2, 3, 4, 5, 6, 7, 8, 9]: [4, 0, 116, 0, 1, 53, 4, 6, 16, 11] times\n",
            "Digit 4 was missinterpreted as a [0, 1, 2, 3, 4, 5, 6, 7, 8, 9]: [7, 0, 9, 0, 0, 0, 33, 4, 30, 78] times\n",
            "Digit 5 was missinterpreted as a [0, 1, 2, 3, 4, 5, 6, 7, 8, 9]: [41, 0, 10, 45, 53, 0, 49, 2, 10, 25] times\n",
            "Digit 6 was missinterpreted as a [0, 1, 2, 3, 4, 5, 6, 7, 8, 9]: [25, 0, 19, 0, 25, 4, 0, 0, 0, 0] times\n",
            "Digit 7 was missinterpreted as a [0, 1, 2, 3, 4, 5, 6, 7, 8, 9]: [3, 3, 101, 9, 29, 1, 3, 0, 22, 62] times\n",
            "Digit 8 was missinterpreted as a [0, 1, 2, 3, 4, 5, 6, 7, 8, 9]: [26, 1, 30, 37, 20, 46, 55, 9, 0, 19] times\n",
            "Digit 9 was missinterpreted as a [0, 1, 2, 3, 4, 5, 6, 7, 8, 9]: [16, 4, 6, 7, 86, 21, 3, 30, 50, 0] times\n"
          ]
        },
        {
          "data": {
            "image/png": "[encoded data removed]",
            "text/plain": [
              "<Figure size 1200x600 with 3 Axes>"
            ]
          },
          "metadata": {},
          "output_type": "display_data"
        }
      ],
      "source": [
        "print(\"Indexes of digits that failed are: \"+str(incorrect_guessed_indexes)+\"\\n\")\n",
        "for sent_digit in incorrect_guessed_digits:\n",
        "  print(\"Digit \"+str(sent_digit)+\" was missinterpreted as a [0, 1, 2, 3, 4, 5, 6, 7, 8, 9]: \"+str(incorrect_guessed_digits[sent_digit])+\" times\")\n",
        "\n",
        "plt.figure(figsize=(12, 6))\n",
        "\n",
        "plt.subplot(121)  # 1 row, 2 columns, subplot 1 (left)\n",
        "plt.hist(incorrect_guessed_indexes, bins=100, edgecolor='k')\n",
        "plt.xlabel('Image Numbers')\n",
        "plt.ylabel('Count')\n",
        "plt.title('Distribution of Failed Image Numbers')\n",
        "\n",
        "plt.subplot(122)  # 1 row, 2 columns, subplot 2 (right)\n",
        "\n",
        "data_array = np.array([incorrect_guessed_digits[key] for key in range(10)])\n",
        "plt.imshow(data_array, cmap='viridis', interpolation='nearest', aspect='auto')\n",
        "plt.colorbar()\n",
        "plt.title('Heatmap of the Fails')\n",
        "plt.xlabel('Guessed Digit')\n",
        "plt.ylabel('Correct Digit')\n",
        "plt.xticks(range(10))\n",
        "plt.yticks(range(10))\n",
        "\n",
        "plt.tight_layout()  # Ensures the plots don't overlap\n",
        "plt.show()"
      ]
    }
  ],
  "metadata": {
    "colab": {
      "provenance": []
    },
    "kernelspec": {
      "display_name": "Python 3",
      "name": "python3"
    },
    "language_info": {
      "name": "python",
      "version": "3.11.6"
    }
  },
  "nbformat": 4,
  "nbformat_minor": 0
}
